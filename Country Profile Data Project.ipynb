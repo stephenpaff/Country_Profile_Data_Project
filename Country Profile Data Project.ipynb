{
 "cells": [
  {
   "cell_type": "markdown",
   "metadata": {},
   "source": [
    "Country Profile Data Project\n",
    "\n",
    "In this project, I analyzed country profile data from the MONDIAL Database. I used ElementTree and Pandas to process their XML dataset. \n",
    "\n",
    "Source: http://www.dbis.informatik.uni-goettingen.de/Mondial/\n",
    "\n",
    "I conducted five tasks on this dataset:\n",
    "\n",
    "1) I found the top 10 countries with the highest infant mortality rates. \n",
    "\n",
    "2) I found the top 10 most populous cities.\n",
    "\n",
    "3) I found the 10 largest ethnic groups in the world. \n",
    "\n",
    "4) I found the name and country for the largest river and largest lake.\n",
    "\n",
    "5) I found the top 10 airports with the highest elevation. "
   ]
  },
  {
   "cell_type": "markdown",
   "metadata": {},
   "source": [
    "Introduction:"
   ]
  },
  {
   "cell_type": "code",
   "execution_count": 66,
   "metadata": {
    "collapsed": true
   },
   "outputs": [],
   "source": [
    "# Imports\n",
    "from xml.etree import ElementTree as et\n",
    "import pandas as pd"
   ]
  },
  {
   "cell_type": "code",
   "execution_count": 68,
   "metadata": {
    "collapsed": true
   },
   "outputs": [],
   "source": [
    "# Parses the XML data file and names it document\n",
    "document = et.parse( './mondial_database.xml' )"
   ]
  },
  {
   "cell_type": "code",
   "execution_count": 69,
   "metadata": {
    "collapsed": true
   },
   "outputs": [],
   "source": [
    "# countries is a list of element values for each country \n",
    "countries = document.findall('country')"
   ]
  },
  {
   "cell_type": "code",
   "execution_count": 70,
   "metadata": {
    "collapsed": false
   },
   "outputs": [],
   "source": [
    "'''\n",
    "Creates a DataFrame that stores the name, ID, population, infant mortality, and ethnic groups of each country. \n",
    "This will be used later to analyze the data. \n",
    "'''\n",
    "\n",
    "# country_list is a list of relevent information for each country that will be used to create the country DataFrame\n",
    "country_list = [ ] \n",
    "# country_labels are the columns of the country DataFrame\n",
    "country_labels = ['Country', 'Country ID', 'Population', 'Infant Mortality', 'Ethnicities']\n",
    "\n",
    "# Loops through each country in the dataset. \n",
    "for country in countries:\n",
    "        '''\n",
    "        name is the name of the country as an element and n is the name as text. \n",
    "        Note: The code tests to make sure the name element is not empty before obtaining its text. \n",
    "        If the element is empty, the name is empty as well. This is done for population, infant mortality, and ethnic groups as well. \n",
    "        '''\n",
    "        name = country.find('name')\n",
    "        try: \n",
    "            assert name != None\n",
    "            n = name.text\n",
    "        except AssertionError:\n",
    "            n = \"\"\n",
    "        \n",
    "        # id is the country's ID\n",
    "        id = country.get('car_code')\n",
    "        \n",
    "        #pop is the list of the country's population records for every year stored. p is the most recent population as an integer. \n",
    "        pop = country.findall('population')\n",
    "        try:\n",
    "            assert pop[-1] != None\n",
    "            p = int(pop[-1].text)\n",
    "        except AssertionError:\n",
    "            p = None\n",
    "        \n",
    "        # inf is the infant mortality rate stored as an element. i is the infant mortality stored as a decimal. \n",
    "        inf = country.find('infant_mortality')\n",
    "        try: \n",
    "            assert inf != None\n",
    "            i = float(inf.text)\n",
    "        except AssertionError:\n",
    "            i = None\n",
    "            \n",
    "        # ethnic is the list of all ethnicgroup elements in the particular country\n",
    "        ethnic = country.findall('ethnicgroup')\n",
    "        # e is the list of all ethnic group names and populations for the particular country\n",
    "        e = [ ] \n",
    "        try:\n",
    "            assert ethnic != [ ] \n",
    "            # This loops through each ethnic group for the particular country.\n",
    "            for group in ethnic:\n",
    "                # For the specific ethnic group, eth_dic stores its name and total population. \n",
    "                eth_dic = { }\n",
    "                eth_dic['name'] = group.text\n",
    "                # This calculates the total popuation of the ethnic group based on the percentage and most recent population estimate given in the dataset. \n",
    "                eth_dic['population'] = int(float(group.get('percentage')) * p / 100) \n",
    "                e.append(eth_dic)\n",
    "        except AssertionError:\n",
    "             e = []        \n",
    "        \n",
    "        # new_country is all the relevent country information stored as a tuple. It is then added to country_list. \n",
    "        new_country = ( n, id, p, i, e)\n",
    "        country_list.append(new_country)\n",
    "\n",
    "# country_df is the DataFrame that stores relevent information about each country. \n",
    "country_df = pd.DataFrame.from_records(country_list, columns=country_labels)"
   ]
  },
  {
   "cell_type": "code",
   "execution_count": null,
   "metadata": {
    "collapsed": true
   },
   "outputs": [],
   "source": []
  },
  {
   "cell_type": "markdown",
   "metadata": {},
   "source": [
    "Task 1:\n",
    "\n",
    "Find the top 10 countries with the highest infant mortality rates"
   ]
  },
  {
   "cell_type": "code",
   "execution_count": 71,
   "metadata": {
    "collapsed": false
   },
   "outputs": [
    {
     "data": {
      "text/html": [
       "<div>\n",
       "<table border=\"1\" class=\"dataframe\">\n",
       "  <thead>\n",
       "    <tr style=\"text-align: right;\">\n",
       "      <th></th>\n",
       "      <th>Country</th>\n",
       "      <th>Country ID</th>\n",
       "      <th>Population</th>\n",
       "      <th>Infant Mortality</th>\n",
       "      <th>Ethnicities</th>\n",
       "    </tr>\n",
       "  </thead>\n",
       "  <tbody>\n",
       "    <tr>\n",
       "      <th>194</th>\n",
       "      <td>Western Sahara</td>\n",
       "      <td>WSA</td>\n",
       "      <td>554795</td>\n",
       "      <td>145.82</td>\n",
       "      <td>[]</td>\n",
       "    </tr>\n",
       "    <tr>\n",
       "      <th>54</th>\n",
       "      <td>Afghanistan</td>\n",
       "      <td>AFG</td>\n",
       "      <td>26023100</td>\n",
       "      <td>117.23</td>\n",
       "      <td>[{'name': 'Tajik', 'population': 6505775}, {'n...</td>\n",
       "    </tr>\n",
       "    <tr>\n",
       "      <th>189</th>\n",
       "      <td>Mali</td>\n",
       "      <td>RMM</td>\n",
       "      <td>13985961</td>\n",
       "      <td>104.34</td>\n",
       "      <td>[{'name': 'Mande', 'population': 6992980}, {'n...</td>\n",
       "    </tr>\n",
       "    <tr>\n",
       "      <th>226</th>\n",
       "      <td>Somalia</td>\n",
       "      <td>SP</td>\n",
       "      <td>9636173</td>\n",
       "      <td>100.14</td>\n",
       "      <td>[{'name': 'Somali', 'population': 8190747}]</td>\n",
       "    </tr>\n",
       "    <tr>\n",
       "      <th>213</th>\n",
       "      <td>Central African Republic</td>\n",
       "      <td>RCA</td>\n",
       "      <td>4349921</td>\n",
       "      <td>92.86</td>\n",
       "      <td>[{'name': 'Baya', 'population': 1478973}, {'na...</td>\n",
       "    </tr>\n",
       "    <tr>\n",
       "      <th>230</th>\n",
       "      <td>Guinea-Bissau</td>\n",
       "      <td>GNB</td>\n",
       "      <td>1586624</td>\n",
       "      <td>90.92</td>\n",
       "      <td>[{'name': 'European', 'population': 15866}, {'...</td>\n",
       "    </tr>\n",
       "    <tr>\n",
       "      <th>214</th>\n",
       "      <td>Chad</td>\n",
       "      <td>TCH</td>\n",
       "      <td>11720781</td>\n",
       "      <td>90.30</td>\n",
       "      <td>[]</td>\n",
       "    </tr>\n",
       "    <tr>\n",
       "      <th>192</th>\n",
       "      <td>Niger</td>\n",
       "      <td>RN</td>\n",
       "      <td>17138707</td>\n",
       "      <td>86.27</td>\n",
       "      <td>[{'name': 'Fula', 'population': 1456790}, {'na...</td>\n",
       "    </tr>\n",
       "    <tr>\n",
       "      <th>195</th>\n",
       "      <td>Angola</td>\n",
       "      <td>ANG</td>\n",
       "      <td>24383301</td>\n",
       "      <td>79.99</td>\n",
       "      <td>[{'name': 'European', 'population': 243833}, {...</td>\n",
       "    </tr>\n",
       "    <tr>\n",
       "      <th>201</th>\n",
       "      <td>Burkina Faso</td>\n",
       "      <td>BF</td>\n",
       "      <td>17322796</td>\n",
       "      <td>76.80</td>\n",
       "      <td>[{'name': 'Mossi', 'population': 4157471}]</td>\n",
       "    </tr>\n",
       "  </tbody>\n",
       "</table>\n",
       "</div>"
      ],
      "text/plain": [
       "                      Country Country ID  Population  Infant Mortality  \\\n",
       "194            Western Sahara        WSA      554795            145.82   \n",
       "54                Afghanistan        AFG    26023100            117.23   \n",
       "189                      Mali        RMM    13985961            104.34   \n",
       "226                   Somalia         SP     9636173            100.14   \n",
       "213  Central African Republic        RCA     4349921             92.86   \n",
       "230             Guinea-Bissau        GNB     1586624             90.92   \n",
       "214                      Chad        TCH    11720781             90.30   \n",
       "192                     Niger         RN    17138707             86.27   \n",
       "195                    Angola        ANG    24383301             79.99   \n",
       "201              Burkina Faso         BF    17322796             76.80   \n",
       "\n",
       "                                           Ethnicities  \n",
       "194                                                 []  \n",
       "54   [{'name': 'Tajik', 'population': 6505775}, {'n...  \n",
       "189  [{'name': 'Mande', 'population': 6992980}, {'n...  \n",
       "226        [{'name': 'Somali', 'population': 8190747}]  \n",
       "213  [{'name': 'Baya', 'population': 1478973}, {'na...  \n",
       "230  [{'name': 'European', 'population': 15866}, {'...  \n",
       "214                                                 []  \n",
       "192  [{'name': 'Fula', 'population': 1456790}, {'na...  \n",
       "195  [{'name': 'European', 'population': 243833}, {...  \n",
       "201         [{'name': 'Mossi', 'population': 4157471}]  "
      ]
     },
     "execution_count": 71,
     "metadata": {},
     "output_type": "execute_result"
    }
   ],
   "source": [
    "# Top 10 countries with the highest infant mortality rates\n",
    "country_df.sort_values('Infant Mortality', ascending = False).head(10)"
   ]
  },
  {
   "cell_type": "code",
   "execution_count": null,
   "metadata": {
    "collapsed": true
   },
   "outputs": [],
   "source": []
  },
  {
   "cell_type": "markdown",
   "metadata": {},
   "source": [
    "Task 2\n",
    "\n",
    "Find the top 10 most populous cities"
   ]
  },
  {
   "cell_type": "code",
   "execution_count": 77,
   "metadata": {
    "collapsed": false
   },
   "outputs": [],
   "source": [
    "# Creates a DataFrame that stores name, country, and population of every city. \n",
    "\n",
    "# city_list is a list of relevent information for each city that will be used to create the city DataFramecity_list = []\n",
    "city_list = []\n",
    "\n",
    "# country_labels are the columns of the city DataFrame\n",
    "city_labels = ['City', 'Country', 'Population']\n",
    "\n",
    "for country in countries: \n",
    "    # country_cities is the list of all cities in that particular country \n",
    "    country_cities = country.findall('city')\n",
    "    \n",
    "    '''\n",
    "    Some cities are only listed under a specific province. \n",
    "    This searches through all provinces to find these cities and add them to the country_cities list. \n",
    "    '''\n",
    "    provinces = country.findall('province')\n",
    "    \n",
    "    # Loops through each province to find their city\n",
    "    for province in provinces:\n",
    "        # Adds the cities in this province to the country_cities list\n",
    "        country_cities += province.findall('city')\n",
    "    \n",
    "    for city in country_cities: \n",
    "        # city_name is the city's name\n",
    "        city_name = city.find('name').text\n",
    "        \n",
    "        #pop is the list of the city's population records for every year stored. p is the most recent population.  \n",
    "        pop = city.findall('population')\n",
    "        try:\n",
    "            assert pop != []\n",
    "            p = int(pop[-1].text)\n",
    "            new_city = (city_name, country.find('name').text, p)\n",
    "            city_list.append(new_city)\n",
    "        except AssertionError:\n",
    "            continue\n",
    "    \n",
    "    \n",
    "\n",
    "# city_df is the DataFrame of all cities     \n",
    "city_df = pd.DataFrame.from_records(city_list, columns = city_labels)"
   ]
  },
  {
   "cell_type": "code",
   "execution_count": 80,
   "metadata": {
    "collapsed": false
   },
   "outputs": [
    {
     "data": {
      "text/html": [
       "<div>\n",
       "<table border=\"1\" class=\"dataframe\">\n",
       "  <thead>\n",
       "    <tr style=\"text-align: right;\">\n",
       "      <th></th>\n",
       "      <th>City</th>\n",
       "      <th>Country</th>\n",
       "      <th>Population</th>\n",
       "    </tr>\n",
       "  </thead>\n",
       "  <tbody>\n",
       "    <tr>\n",
       "      <th>1251</th>\n",
       "      <td>Shanghai</td>\n",
       "      <td>China</td>\n",
       "      <td>22315474</td>\n",
       "    </tr>\n",
       "    <tr>\n",
       "      <th>707</th>\n",
       "      <td>Istanbul</td>\n",
       "      <td>Turkey</td>\n",
       "      <td>13710512</td>\n",
       "    </tr>\n",
       "    <tr>\n",
       "      <th>1421</th>\n",
       "      <td>Mumbai</td>\n",
       "      <td>India</td>\n",
       "      <td>12442373</td>\n",
       "    </tr>\n",
       "    <tr>\n",
       "      <th>443</th>\n",
       "      <td>Moskva</td>\n",
       "      <td>Russia</td>\n",
       "      <td>11979529</td>\n",
       "    </tr>\n",
       "    <tr>\n",
       "      <th>1250</th>\n",
       "      <td>Beijing</td>\n",
       "      <td>China</td>\n",
       "      <td>11716620</td>\n",
       "    </tr>\n",
       "    <tr>\n",
       "      <th>2594</th>\n",
       "      <td>São Paulo</td>\n",
       "      <td>Brazil</td>\n",
       "      <td>11152344</td>\n",
       "    </tr>\n",
       "    <tr>\n",
       "      <th>1252</th>\n",
       "      <td>Tianjin</td>\n",
       "      <td>China</td>\n",
       "      <td>11090314</td>\n",
       "    </tr>\n",
       "    <tr>\n",
       "      <th>974</th>\n",
       "      <td>Guangzhou</td>\n",
       "      <td>China</td>\n",
       "      <td>11071424</td>\n",
       "    </tr>\n",
       "    <tr>\n",
       "      <th>1467</th>\n",
       "      <td>Delhi</td>\n",
       "      <td>India</td>\n",
       "      <td>11034555</td>\n",
       "    </tr>\n",
       "    <tr>\n",
       "      <th>977</th>\n",
       "      <td>Shenzhen</td>\n",
       "      <td>China</td>\n",
       "      <td>10358381</td>\n",
       "    </tr>\n",
       "  </tbody>\n",
       "</table>\n",
       "</div>"
      ],
      "text/plain": [
       "           City Country  Population\n",
       "1251   Shanghai   China    22315474\n",
       "707    Istanbul  Turkey    13710512\n",
       "1421     Mumbai   India    12442373\n",
       "443      Moskva  Russia    11979529\n",
       "1250    Beijing   China    11716620\n",
       "2594  São Paulo  Brazil    11152344\n",
       "1252    Tianjin   China    11090314\n",
       "974   Guangzhou   China    11071424\n",
       "1467      Delhi   India    11034555\n",
       "977    Shenzhen   China    10358381"
      ]
     },
     "execution_count": 80,
     "metadata": {},
     "output_type": "execute_result"
    }
   ],
   "source": [
    "# Top 10 most populous cities\n",
    "city_df.sort_values('Population', ascending = False).head(10)"
   ]
  },
  {
   "cell_type": "code",
   "execution_count": null,
   "metadata": {
    "collapsed": true
   },
   "outputs": [],
   "source": [
    "# Sums the population of each ethnic group across the world and creates a DataFrame with those values \n",
    "\n",
    "# ethnic_dic stores each ethnic group's name and running total population\n",
    "ethnic_dic = { }\n",
    "# ethnic_labels are the labels for the new ethnic group DataFrame. \n",
    "ethnic_labels = ['Ethnicity', 'Global Population']\n",
    "\n",
    "# Loops through each country and adds its ethnic groups to the ethnic_dic's current global total\n",
    "    try: \n",
    "        assert country != [ ]\n",
    "    except AssertionError:\n",
    "        continue\n",
    "        \n",
    "     '''\n",
    "    Loops through each ethnic group in each country\n",
    "    If the ethnic group has not been added to ethnic_dic, it creates a new key for that group.\n",
    "    Otherwise, it adds the population of that ethnic group to ethnic_dic's running total. \n",
    "    '''\n",
    "    for e in country:\n",
    "        if e['name'] in ethnic_dic:\n",
    "            ethnic_dic[e['name']] = ethnic_dic[e['name']] + e['population']\n",
    "        else:\n",
    "            ethnic_dic[e['name']] = e['population']\n",
    "\n",
    "# ethnic_list stores the global populations of each ethnic group as a list\n",
    "ethnic_list = ethnic_dic.items()\n",
    "#for e in ethnic_dic.items():\n",
    "#    ethnic_list.append(e)\n",
    "\n",
    "# ethnic_df stores the global popuations of each ethnic group as a Dataframe\n",
    "ethnic_df = pd.DataFrame.from_records(ethnic_list, columns=ethnic_labels)\n",
    "ethnic_df.head()\n"
   ]
  },
  {
   "cell_type": "markdown",
   "metadata": {
    "collapsed": true
   },
   "source": [
    "Task 3: \n",
    "\n",
    "Find the 10 largest ethnic groups in the world"
   ]
  },
  {
   "cell_type": "code",
   "execution_count": 86,
   "metadata": {
    "collapsed": false
   },
   "outputs": [],
   "source": [
    "# Sums the population of each ethnic group across the world and creates a DataFrame with those values \n",
    "\n",
    "# ethnic_dic stores each ethnic group's name and running total population\n",
    "ethnic_dic = { }\n",
    "# ethnic_labels are the labels for the new ethnic group DataFrame. \n",
    "ethnic_labels = ['Ethnicity', 'Global Population']\n",
    "\n",
    "# Loops through each country and adds its ethnic groups to the ethnic_dic's current global total\n",
    "for country in country_df.Ethnicities:\n",
    "    try: \n",
    "        assert country != [ ]\n",
    "        \n",
    "        '''\n",
    "        Loops through each ethnic group in each country\n",
    "        If the ethnic group has not been added to ethnic_dic, it creates a new key for that group.\n",
    "        Otherwise, it adds the population of that ethnic group to ethnic_dic's running total. \n",
    "        '''\n",
    "        for e in country:\n",
    "            if e['name'] in ethnic_dic:\n",
    "                ethnic_dic[e['name']] = ethnic_dic[e['name']] + e['population']\n",
    "            else:\n",
    "                ethnic_dic[e['name']] = e['population']\n",
    "                \n",
    "    except AssertionError:\n",
    "        continue\n",
    "\n",
    "# ethnic_list stores the global populations of each ethnic group as a list\n",
    "ethnic_list = [ ] \n",
    "for e in ethnic_dic.items():\n",
    "    ethnic_list.append(e)\n",
    "\n",
    "# ethnic_df stores the global popuations of each ethnic group as a Dataframe\n",
    "ethnic_df = pd.DataFrame.from_records(ethnic_list, columns=ethnic_labels)"
   ]
  },
  {
   "cell_type": "code",
   "execution_count": 22,
   "metadata": {
    "collapsed": false
   },
   "outputs": [
    {
     "data": {
      "text/html": [
       "<div>\n",
       "<table border=\"1\" class=\"dataframe\">\n",
       "  <thead>\n",
       "    <tr style=\"text-align: right;\">\n",
       "      <th></th>\n",
       "      <th>Ethnicity</th>\n",
       "      <th>Global Population</th>\n",
       "    </tr>\n",
       "  </thead>\n",
       "  <tbody>\n",
       "    <tr>\n",
       "      <th>80</th>\n",
       "      <td>Han Chinese</td>\n",
       "      <td>1245058800</td>\n",
       "    </tr>\n",
       "    <tr>\n",
       "      <th>106</th>\n",
       "      <td>Indo-Aryan</td>\n",
       "      <td>871815583</td>\n",
       "    </tr>\n",
       "    <tr>\n",
       "      <th>128</th>\n",
       "      <td>European</td>\n",
       "      <td>494872201</td>\n",
       "    </tr>\n",
       "    <tr>\n",
       "      <th>16</th>\n",
       "      <td>African</td>\n",
       "      <td>318325104</td>\n",
       "    </tr>\n",
       "    <tr>\n",
       "      <th>105</th>\n",
       "      <td>Dravidian</td>\n",
       "      <td>302713744</td>\n",
       "    </tr>\n",
       "    <tr>\n",
       "      <th>150</th>\n",
       "      <td>Mestizo</td>\n",
       "      <td>157734349</td>\n",
       "    </tr>\n",
       "    <tr>\n",
       "      <th>98</th>\n",
       "      <td>Bengali</td>\n",
       "      <td>146776916</td>\n",
       "    </tr>\n",
       "    <tr>\n",
       "      <th>33</th>\n",
       "      <td>Russian</td>\n",
       "      <td>131856989</td>\n",
       "    </tr>\n",
       "    <tr>\n",
       "      <th>139</th>\n",
       "      <td>Japanese</td>\n",
       "      <td>126534212</td>\n",
       "    </tr>\n",
       "    <tr>\n",
       "      <th>110</th>\n",
       "      <td>Malay</td>\n",
       "      <td>121993548</td>\n",
       "    </tr>\n",
       "  </tbody>\n",
       "</table>\n",
       "</div>"
      ],
      "text/plain": [
       "       Ethnicity  Global Population\n",
       "80   Han Chinese         1245058800\n",
       "106   Indo-Aryan          871815583\n",
       "128     European          494872201\n",
       "16       African          318325104\n",
       "105    Dravidian          302713744\n",
       "150      Mestizo          157734349\n",
       "98       Bengali          146776916\n",
       "33       Russian          131856989\n",
       "139     Japanese          126534212\n",
       "110        Malay          121993548"
      ]
     },
     "execution_count": 22,
     "metadata": {},
     "output_type": "execute_result"
    }
   ],
   "source": [
    "# Finds the top 10 most largest ethnic groups in the globe\n",
    "ethnic_df.sort_values('Global Population', ascending = False).head(10)"
   ]
  },
  {
   "cell_type": "code",
   "execution_count": null,
   "metadata": {
    "collapsed": true
   },
   "outputs": [],
   "source": []
  },
  {
   "cell_type": "markdown",
   "metadata": {},
   "source": [
    "Task 4: \n",
    "\n",
    "Find the name and country for the largest river, largest lake, and airport with the highest elevation."
   ]
  },
  {
   "cell_type": "code",
   "execution_count": 32,
   "metadata": {
    "collapsed": true
   },
   "outputs": [],
   "source": [
    "# Creates a waters DataFrame for all lakes and rivers and use that to find the largest of each\n",
    "\n",
    "# water_list is the list of bodies of water that will eventually be made into the waters DataFrame. \n",
    "water_list = []\n",
    "\n",
    "# water_labels are the columns of the waters DataFrame\n",
    "water_labels = ['Name', 'Type', 'Size', 'Country ID'] \n",
    "\n",
    "# rivers is the list of all rivers, and lakes the list of all lakes from the dataset. \n",
    "rivers = document.findall('river')\n",
    "lakes = document.findall('lake')"
   ]
  },
  {
   "cell_type": "code",
   "execution_count": 88,
   "metadata": {
    "collapsed": true
   },
   "outputs": [],
   "source": [
    "# Adds all rivers in the dataset to water_list \n",
    "\n",
    "# Loops through each river to find each's name, size, and location\n",
    "for river in rivers:\n",
    "    '''\n",
    "    name is the name of the river as an element and n is the name as text. \n",
    "    Note: The code tests to make sure the name element is not empty before determining obtaining its text. \n",
    "    If the element is empty, the name is empty as well. It will test this for each size and source as well. \n",
    "    '''\n",
    "    name = river.find('name')\n",
    "    try: \n",
    "        assert name != None\n",
    "        n = name.text\n",
    "    except AssertionError:\n",
    "        n = \"\" \n",
    "    \n",
    "    # t is the type of water body it is, which in this case is 'River'. \n",
    "    t = 'River'\n",
    "    \n",
    "    # size is the length of the river as an element, and s is the size as a decimal (in km) \n",
    "    size = river.find('length')\n",
    "    try: \n",
    "        assert size != None\n",
    "        s = float(size.text)\n",
    "    except AssertionError:\n",
    "        s = None\n",
    "    \n",
    "    # loc is the country of origin as an element, and l is the country of origin (by country ID) as a string\n",
    "    loc = river.find('source')\n",
    "    try:\n",
    "        assert loc != None\n",
    "        a = loc.get('country')\n",
    "    except AssertionError:\n",
    "        a = \"\"\n",
    "    \n",
    "    # new_water is all the relevent information for the new body of water stored as a tuple. It is then added to water_list. \n",
    "    new_water = (n, t, s, a)\n",
    "    water_list.append(new_water)"
   ]
  },
  {
   "cell_type": "code",
   "execution_count": 89,
   "metadata": {
    "collapsed": false
   },
   "outputs": [],
   "source": [
    "# Adds all lakes in the dataset to water_list \n",
    "\n",
    "# Loops through each lake to find each's name, size, and location\n",
    "for lake in lakes:\n",
    "    '''\n",
    "    name is the name of the lake as an element and n is the name as text. \n",
    "    Note: The code tests to make sure the name element is not empty before determining obtaining its text. \n",
    "    If the element is empty, the name is empty as well. It will test this for each size and source as well. \n",
    "    '''\n",
    "    name = lake.find('name')\n",
    "    try: \n",
    "        assert name != None\n",
    "        n = name.text\n",
    "    except AssertionError:\n",
    "        n = \"\" \n",
    "    \n",
    "    # t is the type of water body it is, which in this case is 'Lake'. \n",
    "    t = 'Lake'\n",
    "    \n",
    "    # size is the area of the lake as an element, and s is the size as a decimal\n",
    "    size = lake.find('area')\n",
    "    try: \n",
    "        assert size != None\n",
    "        s = float(size.text)\n",
    "    except AssertionError:\n",
    "        s = None\n",
    "    \n",
    "    # loc is the country of origin as an element, and l is the country of origin (by country ID) as a string\n",
    "    loc = lake.find('located')\n",
    "    try:\n",
    "        assert loc != None\n",
    "        a = loc.get('country')\n",
    "    except AssertionError:\n",
    "        a = \"\"\n",
    "    \n",
    "    # new_water is all the relevent information for the new body of water stored as a tuple. It is then added to water_list. \n",
    "    new_water = (n, t, s, a)\n",
    "    water_list.append(new_water)"
   ]
  },
  {
   "cell_type": "code",
   "execution_count": 90,
   "metadata": {
    "collapsed": false
   },
   "outputs": [],
   "source": [
    "# Creates a DataFrame for all lakes and rivers\n",
    "waters_df = pd.DataFrame(water_list, columns = water_labels)"
   ]
  },
  {
   "cell_type": "code",
   "execution_count": 91,
   "metadata": {
    "collapsed": false
   },
   "outputs": [],
   "source": [
    "# Creates a country_key, which stores the name and Country ID for each country\n",
    "\n",
    "country_key = pd.DataFrame({\"Country\": country_df['Country'].tolist(), \"Country ID\": country_df['Country ID'].tolist() })"
   ]
  },
  {
   "cell_type": "code",
   "execution_count": 92,
   "metadata": {
    "collapsed": false
   },
   "outputs": [],
   "source": [
    "# Adds the country name to each body of water. \n",
    "\n",
    "waters_df = waters_df.merge(country_key)"
   ]
  },
  {
   "cell_type": "code",
   "execution_count": 93,
   "metadata": {
    "collapsed": false
   },
   "outputs": [
    {
     "data": {
      "text/html": [
       "<div>\n",
       "<table border=\"1\" class=\"dataframe\">\n",
       "  <thead>\n",
       "    <tr style=\"text-align: right;\">\n",
       "      <th></th>\n",
       "      <th>Name</th>\n",
       "      <th>Type</th>\n",
       "      <th>Size</th>\n",
       "      <th>Country ID</th>\n",
       "      <th>Country</th>\n",
       "    </tr>\n",
       "  </thead>\n",
       "  <tbody>\n",
       "    <tr>\n",
       "      <th>687</th>\n",
       "      <td>Amazonas</td>\n",
       "      <td>River</td>\n",
       "      <td>6448.0</td>\n",
       "      <td>PE</td>\n",
       "      <td>Peru</td>\n",
       "    </tr>\n",
       "  </tbody>\n",
       "</table>\n",
       "</div>"
      ],
      "text/plain": [
       "         Name   Type    Size Country ID Country\n",
       "687  Amazonas  River  6448.0         PE    Peru"
      ]
     },
     "execution_count": 93,
     "metadata": {},
     "output_type": "execute_result"
    }
   ],
   "source": [
    "# Largest River\n",
    "waters_df[waters_df.Type == 'River'].sort_values('Size', ascending = False).head(1)\n",
    "\n",
    "# Note: The length for the Nile is missing, hence why it is not included. "
   ]
  },
  {
   "cell_type": "code",
   "execution_count": 94,
   "metadata": {
    "collapsed": false
   },
   "outputs": [
    {
     "data": {
      "text/html": [
       "<div>\n",
       "<table border=\"1\" class=\"dataframe\">\n",
       "  <thead>\n",
       "    <tr style=\"text-align: right;\">\n",
       "      <th></th>\n",
       "      <th>Name</th>\n",
       "      <th>Type</th>\n",
       "      <th>Size</th>\n",
       "      <th>Country ID</th>\n",
       "      <th>Country</th>\n",
       "    </tr>\n",
       "  </thead>\n",
       "  <tbody>\n",
       "    <tr>\n",
       "      <th>467</th>\n",
       "      <td>Caspian Sea</td>\n",
       "      <td>Lake</td>\n",
       "      <td>386400.0</td>\n",
       "      <td>R</td>\n",
       "      <td>Russia</td>\n",
       "    </tr>\n",
       "  </tbody>\n",
       "</table>\n",
       "</div>"
      ],
      "text/plain": [
       "            Name  Type      Size Country ID Country\n",
       "467  Caspian Sea  Lake  386400.0          R  Russia"
      ]
     },
     "execution_count": 94,
     "metadata": {},
     "output_type": "execute_result"
    }
   ],
   "source": [
    "# Largest Lake\n",
    "waters_df[waters_df.Type == 'Lake'].sort_values('Size', ascending = False).head(1)"
   ]
  },
  {
   "cell_type": "code",
   "execution_count": null,
   "metadata": {
    "collapsed": true
   },
   "outputs": [],
   "source": []
  },
  {
   "cell_type": "markdown",
   "metadata": {},
   "source": [
    "Task 5:\n",
    "\n",
    "Find the top 10 airports with the highest elevation."
   ]
  },
  {
   "cell_type": "code",
   "execution_count": 61,
   "metadata": {
    "collapsed": false
   },
   "outputs": [],
   "source": [
    "# airport_list is a list of relevent information for each country that will be used to create the airport DataFrame\n",
    "airport_list = []\n",
    "# airport_labels are the columns of the airport DataFrame\n",
    "airport_labels = ['Name', 'Elevation', 'Country ID']\n",
    "\n",
    "# airports is the list of all airports\n",
    "airports = document.findall('airport')\n",
    "\n",
    "# Loops through each airport in the dataset\n",
    "for airport in airports:\n",
    "    '''\n",
    "        name is the name of the airport as an element and n is the name as text. \n",
    "        Note: The code tests to make sure the name element is not empty before determining obtaining its text. \n",
    "        If the element is empty, the name is empty as well. It will test this for elevation as well. \n",
    "        '''\n",
    "    name = airport.find('name')\n",
    "    try:\n",
    "        assert name != None\n",
    "        n = name.text\n",
    "    except AssertionError:\n",
    "        n = \"\"\n",
    "        \n",
    "    # elevation is the airport's elevation as an element, and e is the elevation as a decimal\n",
    "    elevation = airport.find('elevation')\n",
    "    try:\n",
    "        assert elevation.text != None\n",
    "        e = int(elevation.text)\n",
    "    except AssertionError:\n",
    "        e = None\n",
    "        \n",
    "    # id is the country id for the airport\n",
    "    id = airport.get('country')\n",
    "    \n",
    "    # new_airport is all the relevent country information stored as a tuple. It is then added to airport_list. \n",
    "    new_airport = (n, e, id)\n",
    "    airport_list.append(new_airport)\n",
    "\n",
    "# airport_df is the DataFrame that stores relevent information about each airport. \n",
    "airports_df = pd.DataFrame(airport_list, columns=airport_labels)    "
   ]
  },
  {
   "cell_type": "code",
   "execution_count": 95,
   "metadata": {
    "collapsed": false
   },
   "outputs": [],
   "source": [
    "# Adds the country name to each airport row. \n",
    "\n",
    "airports_df = airports_df.merge(country_key)"
   ]
  },
  {
   "cell_type": "code",
   "execution_count": 96,
   "metadata": {
    "collapsed": false
   },
   "outputs": [
    {
     "data": {
      "text/html": [
       "<div>\n",
       "<table border=\"1\" class=\"dataframe\">\n",
       "  <thead>\n",
       "    <tr style=\"text-align: right;\">\n",
       "      <th></th>\n",
       "      <th>Name</th>\n",
       "      <th>Elevation</th>\n",
       "      <th>Country ID</th>\n",
       "      <th>Country</th>\n",
       "    </tr>\n",
       "  </thead>\n",
       "  <tbody>\n",
       "    <tr>\n",
       "      <th>80</th>\n",
       "      <td>El Alto Intl</td>\n",
       "      <td>4063.0</td>\n",
       "      <td>BOL</td>\n",
       "      <td>Bolivia</td>\n",
       "    </tr>\n",
       "    <tr>\n",
       "      <th>219</th>\n",
       "      <td>Lhasa-Gonggar</td>\n",
       "      <td>4005.0</td>\n",
       "      <td>CN</td>\n",
       "      <td>China</td>\n",
       "    </tr>\n",
       "    <tr>\n",
       "      <th>241</th>\n",
       "      <td>Yushu Batang</td>\n",
       "      <td>3963.0</td>\n",
       "      <td>CN</td>\n",
       "      <td>China</td>\n",
       "    </tr>\n",
       "    <tr>\n",
       "      <th>813</th>\n",
       "      <td>Juliaca</td>\n",
       "      <td>3827.0</td>\n",
       "      <td>PE</td>\n",
       "      <td>Peru</td>\n",
       "    </tr>\n",
       "    <tr>\n",
       "      <th>815</th>\n",
       "      <td>Teniente Alejandro Velasco Astete Intl</td>\n",
       "      <td>3311.0</td>\n",
       "      <td>PE</td>\n",
       "      <td>Peru</td>\n",
       "    </tr>\n",
       "    <tr>\n",
       "      <th>82</th>\n",
       "      <td>Juana Azurduy De Padilla</td>\n",
       "      <td>2905.0</td>\n",
       "      <td>BOL</td>\n",
       "      <td>Bolivia</td>\n",
       "    </tr>\n",
       "    <tr>\n",
       "      <th>334</th>\n",
       "      <td>Mariscal Sucre Intl</td>\n",
       "      <td>2813.0</td>\n",
       "      <td>EC</td>\n",
       "      <td>Ecuador</td>\n",
       "    </tr>\n",
       "    <tr>\n",
       "      <th>805</th>\n",
       "      <td>Coronel Fap Alfredo Mendivil Duarte</td>\n",
       "      <td>2719.0</td>\n",
       "      <td>PE</td>\n",
       "      <td>Peru</td>\n",
       "    </tr>\n",
       "    <tr>\n",
       "      <th>807</th>\n",
       "      <td>Mayor General FAP Armando Revoredo Iglesias Ai...</td>\n",
       "      <td>2677.0</td>\n",
       "      <td>PE</td>\n",
       "      <td>Peru</td>\n",
       "    </tr>\n",
       "    <tr>\n",
       "      <th>692</th>\n",
       "      <td>Licenciado Adolfo Lopez Mateos Intl</td>\n",
       "      <td>2581.0</td>\n",
       "      <td>MEX</td>\n",
       "      <td>Mexico</td>\n",
       "    </tr>\n",
       "  </tbody>\n",
       "</table>\n",
       "</div>"
      ],
      "text/plain": [
       "                                                  Name  Elevation Country ID  \\\n",
       "80                                        El Alto Intl     4063.0        BOL   \n",
       "219                                      Lhasa-Gonggar     4005.0         CN   \n",
       "241                                       Yushu Batang     3963.0         CN   \n",
       "813                                            Juliaca     3827.0         PE   \n",
       "815             Teniente Alejandro Velasco Astete Intl     3311.0         PE   \n",
       "82                            Juana Azurduy De Padilla     2905.0        BOL   \n",
       "334                                Mariscal Sucre Intl     2813.0         EC   \n",
       "805                Coronel Fap Alfredo Mendivil Duarte     2719.0         PE   \n",
       "807  Mayor General FAP Armando Revoredo Iglesias Ai...     2677.0         PE   \n",
       "692                Licenciado Adolfo Lopez Mateos Intl     2581.0        MEX   \n",
       "\n",
       "     Country  \n",
       "80   Bolivia  \n",
       "219    China  \n",
       "241    China  \n",
       "813     Peru  \n",
       "815     Peru  \n",
       "82   Bolivia  \n",
       "334  Ecuador  \n",
       "805     Peru  \n",
       "807     Peru  \n",
       "692   Mexico  "
      ]
     },
     "execution_count": 96,
     "metadata": {},
     "output_type": "execute_result"
    }
   ],
   "source": [
    "# 10 airports with the highest elevation\n",
    "airports_df.sort_values('Elevation', ascending = False).head(10)"
   ]
  }
 ],
 "metadata": {
  "kernelspec": {
   "display_name": "Python 3",
   "language": "python",
   "name": "python3"
  },
  "language_info": {
   "codemirror_mode": {
    "name": "ipython",
    "version": 3
   },
   "file_extension": ".py",
   "mimetype": "text/x-python",
   "name": "python",
   "nbconvert_exporter": "python",
   "pygments_lexer": "ipython3",
   "version": "3.6.0"
  }
 },
 "nbformat": 4,
 "nbformat_minor": 2
}
